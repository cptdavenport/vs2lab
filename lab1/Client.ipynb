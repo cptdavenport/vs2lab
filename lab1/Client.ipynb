{
 "cells": [
  {
   "cell_type": "markdown",
   "metadata": {},
   "source": [
    "# Client\n",
    "\n",
    "Here we start the client. The server needs to be started first."
   ]
  },
  {
   "cell_type": "code",
   "execution_count": null,
   "outputs": [],
   "source": [
    "from lab1.clientserver import Client\n",
    "#imports\n",
    "from lab1.phonebook_helper import get_phonebook"
   ],
   "metadata": {
    "collapsed": false
   }
  },
  {
   "cell_type": "markdown",
   "source": [
    "We generate a list of known good phonebook entries and add a fake name not known to the server."
   ],
   "metadata": {
    "collapsed": false
   }
  },
  {
   "cell_type": "code",
   "execution_count": null,
   "outputs": [],
   "source": [
    "# generate known phonebook names\n",
    "names = list(get_phonebook().keys())\n",
    "# add fake name not known to server\n",
    "names.append(\"Klaus Existiertnicht\")"
   ],
   "metadata": {
    "collapsed": false
   }
  },
  {
   "cell_type": "markdown",
   "source": [
    "We use a [context manager](https://docs.python.org/3/library/stdtypes.html#typecontextmanager) to run the `open` and `close` methods of the client automatically."
   ],
   "metadata": {
    "collapsed": false
   }
  },
  {
   "cell_type": "code",
   "execution_count": null,
   "outputs": [],
   "source": [
    "# start client with context manager\n",
    "with Client() as cl:\n",
    "    # try to get all names known, including fake name\n",
    "    for name in names:\n",
    "        print(f\"{name}: {cl.get(name)}\")\n",
    "    print()\n",
    "    # try to get all phonebook entries\n",
    "    print(cl.get_all())"
   ],
   "metadata": {
    "collapsed": false
   }
  },
  {
   "cell_type": "markdown",
   "source": [
    "Finished."
   ],
   "metadata": {
    "collapsed": false
   }
  }
 ],
 "metadata": {
  "kernelspec": {
   "display_name": "Python 3",
   "language": "python",
   "name": "python3"
  },
  "language_info": {
   "codemirror_mode": {
    "name": "ipython",
    "version": 3
   },
   "file_extension": ".py",
   "mimetype": "text/x-python",
   "name": "python",
   "nbconvert_exporter": "python",
   "pygments_lexer": "ipython3",
   "version": "3.7.0"
  }
 },
 "nbformat": 4,
 "nbformat_minor": 2
}
